{
  "nbformat": 4,
  "nbformat_minor": 0,
  "metadata": {
    "colab": {
      "name": "600-ComputingPlathome",
      "provenance": [],
      "collapsed_sections": [],
      "authorship_tag": "ABX9TyNkVPsasZ7aOB6xv7d/9k7o",
      "include_colab_link": true
    },
    "kernelspec": {
      "name": "python3",
      "display_name": "Python 3"
    },
    "accelerator": "TPU"
  },
  "cells": [
    {
      "cell_type": "markdown",
      "metadata": {
        "id": "view-in-github",
        "colab_type": "text"
      },
      "source": [
        "<a href=\"https://colab.research.google.com/github/kameda-yoshinari/IMISToolExeA2020/blob/master/600_ComputingPlathome.ipynb\" target=\"_parent\"><img src=\"https://colab.research.google.com/assets/colab-badge.svg\" alt=\"Open In Colab\"/></a>"
      ]
    },
    {
      "cell_type": "markdown",
      "metadata": {
        "id": "CvYFa2bSBgrB",
        "colab_type": "text"
      },
      "source": [
        "# 6. Computing Plathome\n",
        "\n",
        "(The world is so rapidly changing on this issue.)\n",
        "\n",
        "Cloud computing is becoming one of the major methods to run time-comsuming ML.\n",
        "\n",
        "Basically, all the cloud services should require payment (you need to show your credit card upon registration).  \n",
        "Since they want more people to use their systems, initial costs are free in some cases.\n",
        "One of the good points of the could services (public cloud) is the small initial cost. basically you can run the system below 10K JPY.  \n",
        "\n",
        "As of July [2020](https://www.zdnet.com/article/the-top-cloud-providers-of-2020-aws-microsoft-azure-google-cloud-hybrid-saas/), AWS, Azure, and Google cloud are major tools in business AI/ML. But for you students, the colab would be the first choice.\n"
      ]
    },
    {
      "cell_type": "markdown",
      "metadata": {
        "id": "P86vmup0Jdmx",
        "colab_type": "text"
      },
      "source": [
        "# [Google colaboratory](https://colab.research.google.com/notebooks/intro.ipynb#recent=true)\n",
        "\n",
        "* Google colaboratory has been started as [a tutorial system (sandbox) for employees in google](https://image.itmedia.co.jp/l/im/ait/articles/2003/17/l_di-03.gif).\n",
        "* That's why it has different atomsphere (i.e. free of charge).\n",
        "> 2012: begins as internal tool  \n",
        "> 2017: launched externally  \n",
        "> 2020: [Google colaboratoy pro](https://colab.research.google.com/signup)\n",
        "\n",
        "Maybe they think of attracting people and let them familiar with google cloud system by way of the colab.\n",
        "\n",
        "\n",
        "# [Google Cloud](https://cloud.google.com/)\n",
        "\n",
        "Unlike the colab, this is intended to make business. There are many services, and AI is one of them. \n",
        "\n",
        "* [Google AI Platform](https://cloud.google.com/ai-platform/?hl=ja)\n",
        "* free + USD 300 (in 12 months)\n",
        "* [documentation (including tutorial)](https://cloud.google.com/ai-platform/docs)\n",
        "\n",
        "\n"
      ]
    },
    {
      "cell_type": "markdown",
      "metadata": {
        "id": "ZFzs9yZkQD4v",
        "colab_type": "text"
      },
      "source": [
        "# [Amazon Web Services](https://aws.amazon.com/jp/)\n",
        "\n",
        "AWS is the business heart of Amazon (More 2.6 Billon US dollar profit by AWS among 3.3 Billon US dollars of Amazon group in [2019/4thQ](https://japan.zdnet.com/article/35148745/)) .\n",
        "\n",
        "Among AWS, a combination of  EC2 (servers) and S3 (storage) could be populr to build ML system.\n",
        "\n",
        "* [free + 12 months free trial](https://aws.amazon.com/jp/free/?all-free-tier.sort-by=item.additionalFields.SortRank&all-free-tier.sort-order=asc)\n",
        "* [Machine Learning tutorial](https://aws.amazon.com/jp/training/learning-paths/machine-learning/)\n"
      ]
    },
    {
      "cell_type": "markdown",
      "metadata": {
        "id": "HAgbbcDKQilW",
        "colab_type": "text"
      },
      "source": [
        "# [Microsoft Azure](https://azure.microsoft.com/ja-jp/)\n",
        "\n",
        "Microsoft is shifting their business to Azure service.\n",
        "\n",
        "* free + JPY 22,500 (in 12 months)\n",
        "* \"@u\" acount could be available.\n",
        "* [Azure machine learning tutorial](https://docs.microsoft.com/ja-jp/azure/machine-learning/)"
      ]
    },
    {
      "cell_type": "markdown",
      "metadata": {
        "id": "imMXh-FRsVvC",
        "colab_type": "text"
      },
      "source": [
        "---\n",
        "below are services where no credit cards are needed (on start)."
      ]
    },
    {
      "cell_type": "markdown",
      "metadata": {
        "id": "gQXgi1V8QwSc",
        "colab_type": "text"
      },
      "source": [
        "# [Mathworks](https://jp.mathworks.com/)\n",
        "\n",
        "* paid service\n",
        "* 30 days free\n",
        "* On, U-Tsukuba, campus license available (up to the end of 2020/08)\n"
      ]
    },
    {
      "cell_type": "markdown",
      "metadata": {
        "id": "MiWqlPg-Qp-q",
        "colab_type": "text"
      },
      "source": [
        "# [IBM cloud](https://cloud.ibm.com/)\n",
        "\n",
        "* free (credit card NOT needed) + USD 200 (30 days)"
      ]
    },
    {
      "cell_type": "markdown",
      "metadata": {
        "id": "fE4ELgP7Qxw9",
        "colab_type": "text"
      },
      "source": [
        "# [SONY Neural Network Console](https://dl.sony.com/ja/)\n",
        "\n",
        "This could be very benefitial for Japanese students...\n",
        "\n",
        "* free (credit card NOT needed) + 10 CPU hours\n",
        "* designed for computer vision (only?)\n",
        "\n",
        "* Rather building at local environment ? ([console for Window10, free](https://dl.sony.com/ja/app/))\n",
        "* Also provides [neural network libraries](https://github.com/sony/nnabla)"
      ]
    },
    {
      "cell_type": "markdown",
      "metadata": {
        "id": "mkNHRQgvQ13r",
        "colab_type": "text"
      },
      "source": [
        "# [Kaggle](https://www.kaggle.com/)\n",
        "\n",
        "Unkike the others, Kaggle is the site for firing up DL community.\n",
        "Actually it is an open competition site for popular demanded problems.\n",
        "They prepare well-written documents for generic DL tutorial, so you should see them (in 2018-2019, it was probably one of the best on the internet...)\n"
      ]
    },
    {
      "cell_type": "markdown",
      "metadata": {
        "id": "9ijPyK5WSgVA",
        "colab_type": "text"
      },
      "source": [
        "---\n",
        "Tools for intelligent interaction systems a  \n",
        "Master's and Docotal programs in intelligent and mechanical interaction systems, University of Tsukuba, Japan.  \n",
        "KAMEDA Yoshinari, SHIBUYA Takeshi  \n",
        "2020/06.29.\n",
        "\n",
        "知能システムツール演習a  \n",
        "知能機能システム学位プログラム (筑波大学大学院)  \n",
        "担当：亀田能成，澁谷長史  \n",
        "2020/06/29.\n",
        "\n"
      ]
    }
  ]
}