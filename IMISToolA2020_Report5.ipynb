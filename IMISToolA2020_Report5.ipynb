{
  "nbformat": 4,
  "nbformat_minor": 0,
  "metadata": {
    "colab": {
      "name": "IMISToolA2020-Report5",
      "provenance": [],
      "collapsed_sections": [],
      "authorship_tag": "ABX9TyP3RUr0/w9vGYOYAYO8hP2Z",
      "include_colab_link": true
    },
    "kernelspec": {
      "name": "python3",
      "display_name": "Python 3"
    }
  },
  "cells": [
    {
      "cell_type": "markdown",
      "metadata": {
        "id": "view-in-github",
        "colab_type": "text"
      },
      "source": [
        "<a href=\"https://colab.research.google.com/github/kameda-yoshinari/IMISToolExeA2020/blob/master/IMISToolA2020_Report5.ipynb\" target=\"_parent\"><img src=\"https://colab.research.google.com/assets/colab-badge.svg\" alt=\"Open In Colab\"/></a>"
      ]
    },
    {
      "cell_type": "markdown",
      "metadata": {
        "id": "-SqpuNOEWS-a",
        "colab_type": "text"
      },
      "source": [
        "# Report 5 (2020/07/06verA)\n",
        "\n",
        "for Tools for intelligent interaction systems a (0ALE005 / 0AL5706).\n",
        "\n",
        "---\n",
        "\n",
        "<font color=\"red\">\n",
        "If Ver.B or later, change log should be found at the end of this page.  \n",
        "\n",
        "Your ID info should be placed in the following three items (MANDATORY).\n",
        "</font>\n",
        "\n",
        "* Student ID: (E.g. 202099998)...Erase-and-put-yours-here\n",
        "* Name: (E.g. 筑波 太郎）...Erase-and-put-yours-here\n",
        "* Colab account: (E.g. tsukuba.taro.xs@alumni.tsukuba.ac.jp)...Erase-and-put-yours-here\n",
        "\n",
        "---\n",
        "\n",
        "Report could be written in English or Japanese. / レポートの記述は日本語でも英語でもよい．\n",
        "\n",
        "---"
      ]
    },
    {
      "cell_type": "markdown",
      "metadata": {
        "id": "1dgiRz0ptI8B",
        "colab_type": "text"
      },
      "source": [
        "---\n",
        "# Report5A: Trial on Actual DL setting on cloud\n",
        "\n",
        "1. Make an account at any of commertial cloud services (except for google colaboratory)\n",
        "2. Make a pattern recognition project and show the result (you should also show the summary of how you made that; any URLs you saw to get help should be attached in the report)\n",
        "3. Attach at least one screen shot as an evidence\n",
        "\n",
        "\n",
        "Note that you can submit the project that is provided in a tutorial course of their sites.  \n",
        "The mission here is not to build a new PR system but to show me you can dive to those sites and somehow getting familiar with their tutorial.\n",
        "\n",
        "(Colab notebook of 600 would help you.)  \n",
        "(I hope you challenge for a new one, but if you unfortunately have time or failed in new sites, mathwork might be OK as it also provides many sample DL projects) "
      ]
    },
    {
      "cell_type": "markdown",
      "metadata": {
        "id": "78rOFDMVuGKo",
        "colab_type": "text"
      },
      "source": [
        "(You can put text cells around here)"
      ]
    },
    {
      "cell_type": "markdown",
      "metadata": {
        "id": "K_JcPggjuJoQ",
        "colab_type": "text"
      },
      "source": [
        "A screen shot should be placed here (just paste screenshot image by Ctrl-V)"
      ]
    },
    {
      "cell_type": "markdown",
      "metadata": {
        "id": "c7rf54NjW5f2",
        "colab_type": "text"
      },
      "source": [
        "---\n",
        "# Report submission\n",
        "\n",
        "The report template will be given in ipynb file.\n",
        "You should save it to your local google colaboratory folder and then edit it to fit your report.\n",
        "\n",
        "The report submission should be made at this cource (0ALE005) at https://manaba.tsukuba.ac.jp .\n",
        "Note that 0ALE005 is coupled with 0ALE002 and 0AL5706 on manaba system.\n",
        "\n",
        "\n",
        "**File (main)**\n",
        "\n",
        "Download the ipynb to your local machine and then submit the file to the manaba.\n",
        "\n",
        "**URL (backup)**\n",
        "\n",
        "Make a shared link which is open only to the alumni.tsukuba.ac.jp (筑波大学交流広場) domain.\n",
        "\n",
        "![共有可能なリンク](https://docs.google.com/drawings/d/e/2PACX-1vTDuOu8Z1nZFTqJ0yMKXedJwDnZx0hiKXoL56h21kQrDRj4C52aQX7Nn9QJZFZAgKV32lxTzuvNlory/pub?w=508&h=403)\n",
        "\n",
        "\n",
        "\n"
      ]
    },
    {
      "cell_type": "markdown",
      "metadata": {
        "id": "mrwIDJcJkSCk",
        "colab_type": "text"
      },
      "source": [
        "---\n",
        "Tools for intelligent interaction systems a  \n",
        "Master's and Docotal programs in intelligent and mechanical interaction systems, University of Tsukuba, Japan.  \n",
        "KAMEDA Yoshinari, SHIBUYA Takeshi  \n",
        "\n",
        "知能システムツール演習a  \n",
        "知能機能システム学位プログラム (筑波大学大学院)  \n",
        "担当：亀田能成，澁谷長史  \n",
        "\n",
        "\n",
        "2020/07/06. Ver.A for Report5 (5X)\n"
      ]
    }
  ]
}